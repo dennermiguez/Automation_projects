{
 "cells": [
  {
   "cell_type": "markdown",
   "metadata": {},
   "source": [
    "Projeto automação dos resultados por loja"
   ]
  },
  {
   "cell_type": "code",
   "execution_count": 42,
   "metadata": {},
   "outputs": [],
   "source": [
    "import pandas as pd\n",
    "import numpy as np\n",
    "import pathlib\n",
    "import win32com.client as win32\n",
    "import pythoncom"
   ]
  },
  {
   "cell_type": "code",
   "execution_count": 2,
   "metadata": {},
   "outputs": [],
   "source": [
    "#importação da base de dados\n",
    "emails = pd.read_excel('Emails.xlsx')\n",
    "lojas = pd.read_excel('lojas.xlsx')\n",
    "vendas = pd.read_excel('Vendas.xlsx')"
   ]
  },
  {
   "cell_type": "code",
   "execution_count": 3,
   "metadata": {},
   "outputs": [],
   "source": [
    "#Juntando as tabelas de vendas com as lojas\n",
    "vendas_lojas = vendas.merge(lojas, on = 'ID Loja', how='inner')"
   ]
  },
  {
   "cell_type": "code",
   "execution_count": 4,
   "metadata": {},
   "outputs": [],
   "source": [
    "#agrupando as vendas por loja\n",
    "vendas_grupo = vendas_lojas.groupby('Loja').agg(total_venda = ('Valor Final','sum'))"
   ]
  },
  {
   "cell_type": "code",
   "execution_count": 5,
   "metadata": {},
   "outputs": [],
   "source": [
    "#criando uma tabela diferente para cada uma das lojas\n",
    "dicionario_loja = {}\n",
    "for loja in vendas_lojas['Loja'].values:\n",
    "    dicionario_loja[loja] = vendas_lojas.loc[vendas_lojas['Loja']==loja,:]"
   ]
  },
  {
   "cell_type": "code",
   "execution_count": 6,
   "metadata": {},
   "outputs": [],
   "source": [
    "#extraindo o dia para calculo dos indicadores\n",
    "dia_indicador = vendas['Data'].max()"
   ]
  },
  {
   "cell_type": "code",
   "execution_count": 7,
   "metadata": {},
   "outputs": [],
   "source": [
    "#fazendo o backup dos arquivos\n",
    "#verificando as lojas que ja possuem uma pasta na pasta de backup\n",
    "caminho_backup = pathlib.Path(r'backup')\n",
    "arquivos_pasta_backup = caminho_backup.iterdir()\n",
    "lista_nomes_backup = [arquivo.name for arquivo in arquivos_pasta_backup]\n",
    "\n",
    "#criando as pastas de backup de cada loja\n",
    "\n",
    "for loja in dicionario_loja:\n",
    "    if loja not in lista_nomes_backup:\n",
    "        nova_pasta = caminho_backup / loja\n",
    "        nova_pasta.mkdir()\n",
    "\n",
    "    #salvando o backup dentro da pasta\n",
    "    nome_arquivo = '{}_{}_{}.xlsx'.format(dia_indicador.month,dia_indicador.day,loja)\n",
    "    local_arquivo = caminho_backup / loja / nome_arquivo\n",
    "    dicionario_loja[loja].to_excel(local_arquivo)\n"
   ]
  },
  {
   "cell_type": "markdown",
   "metadata": {},
   "source": [
    "# Iremos definir as metas que serão definidas para as lojas"
   ]
  },
  {
   "cell_type": "code",
   "execution_count": 16,
   "metadata": {},
   "outputs": [],
   "source": [
    "meta_dia_faturamento = 1000\n",
    "diversidade_produtos_dia_meta = 4\n",
    "ticket_medio_meta = 500\n",
    "meta_ano_faturamento_meta = 1650000\n",
    "diversidade_produtos_ano_meta = 120\n"
   ]
  },
  {
   "cell_type": "markdown",
   "metadata": {},
   "source": [
    "# Será criada uma função para calcular os dados que serão mostrados no one page por cada loja para generalizar a solução"
   ]
  },
  {
   "cell_type": "code",
   "execution_count": 85,
   "metadata": {},
   "outputs": [],
   "source": [
    "def indicadores_one_page(loja, dia):\n",
    "    \"\"\" Função que calcula  os indicadores de cada loja e retorna um dicionario contendo cada \n",
    "    indicador como chave e seus resultados como valor.\n",
    "    \n",
    "    loja = é um pandas Dataframe referente a loja.\n",
    "    dia = objeto datetime\"\"\"\n",
    "    faturamento_ano_loja = loja['Valor Final'].sum()\n",
    "    loja_dia = loja.loc[loja['Data']==dia,:]\n",
    "    faturamento_loja_dia = loja_dia['Valor Final'].sum()\n",
    "    diversidade_loja_dia = loja_dia['Produto'].nunique()\n",
    "    diversidade_loja_ano = loja['Produto'].nunique()\n",
    "    vendas_loja_grupo = loja.groupby('Código Venda')['Valor Final'].sum().reset_index()\n",
    "    ticket_medio_loja = vendas_loja_grupo['Valor Final'].mean()\n",
    "    vendas_loja_grupo_dia = loja_dia.groupby('Código Venda')['Valor Final'].sum().reset_index()\n",
    "    ticket_medio_loja_dia = vendas_loja_grupo_dia['Valor Final'].mean()\n",
    "    indicadores_dict = {'faturamento_anual':faturamento_ano_loja,'faturamento_dia':faturamento_loja_dia,\n",
    "                        'diversidade_produtos_ano':diversidade_loja_ano, 'diversidade_produtos_dia':diversidade_loja_dia,\n",
    "                        \"ticket_medio_ano\":ticket_medio_loja,'ticket_medio_dia':ticket_medio_loja_dia}\n",
    "    return indicadores_dict\n"
   ]
  },
  {
   "cell_type": "markdown",
   "metadata": {},
   "source": [
    "# Criando uma Fnção para automatizar o envio de email para o gerente de cada loja"
   ]
  },
  {
   "cell_type": "code",
   "execution_count": 87,
   "metadata": {},
   "outputs": [],
   "source": [
    "def enviar_email(indicadores,lista_email,nome_loja,dia):\n",
    "    \"\"\" Função para gerar os emails e enviar o relatorio one page junto com o backup em anexo para os gerentes de cada uma das lojas\n",
    "    indicadores = dicionário contendo cada indicador relacionado a determinada loja\n",
    "    lista-email = pandas dataframe contendo o nome de cada loja, seu gerente e o email deste.\n",
    "    nome loja = str contendo o nome da loja\n",
    "    dia = datetime retirado do dataframe lojas sendo esse o último dia contendo registros.\n",
    "    \"\"\"\n",
    "\n",
    "    #condicionais para definir as cores dos cenarios anuais e diarios\n",
    "    if indicadores['faturamento_dia']>=meta_dia_faturamento:\n",
    "        color_dia_fat = 'green'\n",
    "    else:\n",
    "        color_dia_fat = 'red'\n",
    "\n",
    "    if indicadores['diversidade_produtos_dia']>=diversidade_produtos_dia_meta:\n",
    "        color_dia_div = 'green'\n",
    "    else:\n",
    "        color_dia_div = 'red'\n",
    "\n",
    "    if indicadores['ticket_medio_dia']>=ticket_medio_meta:\n",
    "        color_tick_dia = 'green'\n",
    "    else:\n",
    "        color_tick_dia='red'\n",
    "\n",
    "    if indicadores['faturamento_anual']>= meta_ano_faturamento_meta:\n",
    "        color_fat_ano = 'green'\n",
    "    else:\n",
    "        color_fat_ano = 'red'\n",
    "\n",
    "    if indicadores['diversidade_produtos_ano']>= diversidade_produtos_ano_meta:\n",
    "        color_div_ano = 'green'\n",
    "    else:\n",
    "        color_div_ano = 'red'\n",
    "\n",
    "    if indicadores['ticket_medio_ano']>= ticket_medio_meta:\n",
    "        color_ticket_ano = 'green'\n",
    "    else:\n",
    "        color_ticket_ano = 'red'  \n",
    "\n",
    "\n",
    "    nome_gerente = lista_email.loc[lista_email['Loja']==nome_loja,'Gerente'].values[0]\n",
    "    outlook = win32.Dispatch('outlook.application', pythoncom.CoInitialize())\n",
    "    mail = outlook.CreateItem(0)\n",
    "    mail.To = f'{lista_email.loc[lista_email['Loja']==nome_loja,'E-mail'].values[0]};denner.souza@partnerpse.com'\n",
    "    mail.Subject = f'OnePage Dia {dia.day}/{dia.month} - Loja {nome_loja}'\n",
    "    mail.HTMLBody = f'''\n",
    "    <p> Bom dia, {nome_gerente} </p>\n",
    "    <p> O resultado de ontem <strong>({dia.day}/{dia.month})</strong> da <strong>loja {nome_loja}</strong> foi: </p>\n",
    "\n",
    "    <html>\n",
    "    <head>\n",
    "    <style>\n",
    "\n",
    "    </style>\n",
    "    </head>\n",
    "    <body>\n",
    "\n",
    "    <table>\n",
    "    <tr>\n",
    "        <th>Indicador</th>\n",
    "        <th>Valor Dia</th>\n",
    "        <th>Meta Dia</th>\n",
    "        <th>Cenário Dia</th>\n",
    "    </tr>\n",
    "    <tr>\n",
    "        <td>Faturamento</td>\n",
    "        <td>{indicadores['faturamento_dia']}</td>\n",
    "        <td>{meta_dia_faturamento}</td>\n",
    "        <td><font color = \"{color_dia_fat}\">◙</font></td>\n",
    "    </tr>\n",
    "    <tr>\n",
    "        <td>Diversidade de produtos</td>\n",
    "        <td>{indicadores['diversidade_produtos_dia']}</td>\n",
    "        <td>{diversidade_produtos_dia_meta}</td>\n",
    "        <td><font color = \"{color_dia_div}\">◙</font></td>\n",
    "    </tr>\n",
    "    <tr>\n",
    "        <td>Ticket Medio</td>\n",
    "        <td>{indicadores['ticket_medio_dia']}</td>\n",
    "        <td>{ticket_medio_meta}</td>\n",
    "        <td><font color = \"{color_tick_dia}\">◙</font></td>\n",
    "    </tr>\n",
    "    </table>\n",
    "    </body>\n",
    "    </html>\n",
    "    <br>\n",
    "    <html>\n",
    "    <head>\n",
    "    <style>\n",
    "\n",
    "    </style>\n",
    "    </head>\n",
    "    <body>\n",
    "\n",
    "    <table>\n",
    "    <tr>\n",
    "        <th>Indicador</th>\n",
    "        <th>Valor Anual </th>\n",
    "        <th>Meta Anual</th>\n",
    "        <th>Cenário Anual </th>\n",
    "    </tr>\n",
    "    <tr>\n",
    "        <td>Faturamento Anual </td>\n",
    "        <td>{indicadores['faturamento_anual']}</td>\n",
    "        <td>{meta_ano_faturamento_meta}</td>\n",
    "        <td><font color = \"{color_fat_ano}\">◙</font></td>\n",
    "    </tr>\n",
    "    <tr>\n",
    "        <td>Diversidade de produtos Anual</td>\n",
    "        <td>{indicadores['diversidade_produtos_ano']}</td>\n",
    "        <td>{diversidade_produtos_ano_meta}</td>\n",
    "        <td><font color = \"{color_div_ano}\">◙</font></td>\n",
    "    </tr>\n",
    "    <tr>\n",
    "        <td>Ticket Medio Anual </td>\n",
    "        <td>{indicadores['ticket_medio_ano']}</td>\n",
    "        <td>{ticket_medio_meta}</td>\n",
    "        <td><font color = \"{color_ticket_ano}\">◙</font></td>\n",
    "    </tr>\n",
    "    </table>\n",
    "    </body>\n",
    "    </html>\n",
    "\n",
    "\n",
    "    <p> Segue em anexo a planilha com todos os dados para mais detalhes. </p>\n",
    "\n",
    "    <p> Qualquer dúvida estou a disposição. </p>\n",
    "    <p> Att, </p>\n",
    "    '''\n",
    "    attach = pathlib.Path.cwd()/caminho_backup/nome_loja/f'{dia.month}_{dia.day}_{nome_loja}.xlsx'\n",
    "    mail.Attachments.Add(str(attach))\n",
    "    mail.Send()\n"
   ]
  },
  {
   "cell_type": "markdown",
   "metadata": {},
   "source": [
    "# Criando uma função que irá gerar os indicadores e enviar os emails na mesma ação, utilizando das duas função criadas anteriormente"
   ]
  },
  {
   "cell_type": "code",
   "execution_count": 95,
   "metadata": {},
   "outputs": [],
   "source": [
    "def enviar_indicadores(loja_df,dia,lista_email,nome_loja):\n",
    "    indicador = indicadores_one_page(loja_df,dia)\n",
    "    enviar_email(indicador,lista_email,nome_loja,dia)"
   ]
  },
  {
   "cell_type": "markdown",
   "metadata": {},
   "source": [
    "## Criando os indicadores para cada uma das lojas e enviando os emails"
   ]
  },
  {
   "cell_type": "code",
   "execution_count": 96,
   "metadata": {},
   "outputs": [],
   "source": [
    "for loja in dicionario_loja:\n",
    "    loja_df = dicionario_loja[loja].copy()\n",
    "    enviar_indicadores(loja_df,dia_indicador,emails,loja)\n",
    "   "
   ]
  }
 ],
 "metadata": {
  "kernelspec": {
   "display_name": "Python 3",
   "language": "python",
   "name": "python3"
  },
  "language_info": {
   "codemirror_mode": {
    "name": "ipython",
    "version": 3
   },
   "file_extension": ".py",
   "mimetype": "text/x-python",
   "name": "python",
   "nbconvert_exporter": "python",
   "pygments_lexer": "ipython3",
   "version": "3.12.4"
  }
 },
 "nbformat": 4,
 "nbformat_minor": 2
}
